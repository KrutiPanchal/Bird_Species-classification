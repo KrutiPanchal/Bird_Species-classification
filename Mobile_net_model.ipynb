{
  "nbformat": 4,
  "nbformat_minor": 0,
  "metadata": {
    "colab": {
      "name": "Mobile_net_model.ipynb",
      "provenance": [],
      "collapsed_sections": []
    },
    "kernelspec": {
      "name": "python3",
      "display_name": "Python 3"
    },
    "accelerator": "GPU"
  },
  "cells": [
    {
      "cell_type": "code",
      "metadata": {
        "id": "KdNmDJIeAEux",
        "colab_type": "code",
        "colab": {}
      },
      "source": [
        "import tensorflow as tf\n",
        "import numpy as np\n",
        "import matplotlib.pyplot as plt\n",
        "import os\n",
        "from PIL import ImtImagePlugin\n",
        "import IPython.display as display\n",
        "import zipfile\n",
        "from keras.preprocessing.image import ImageDataGenerator\n",
        "import re"
      ],
      "execution_count": 3,
      "outputs": []
    },
    {
      "cell_type": "code",
      "metadata": {
        "id": "5iN-vu5OAlr0",
        "colab_type": "code",
        "colab": {
          "base_uri": "https://localhost:8080/",
          "height": 35
        },
        "outputId": "4033f514-aeca-48a9-b754-bc5ce0476b2d"
      },
      "source": [
        "tf.__version__"
      ],
      "execution_count": 4,
      "outputs": [
        {
          "output_type": "execute_result",
          "data": {
            "application/vnd.google.colaboratory.intrinsic": {
              "type": "string"
            },
            "text/plain": [
              "'2.2.0'"
            ]
          },
          "metadata": {
            "tags": []
          },
          "execution_count": 4
        }
      ]
    },
    {
      "cell_type": "code",
      "metadata": {
        "id": "wQoXHEMuAnjV",
        "colab_type": "code",
        "colab": {
          "base_uri": "https://localhost:8080/",
          "height": 121
        },
        "outputId": "8033517e-94c1-4f87-8ea4-d500831bf276"
      },
      "source": [
        "from google.colab import drive\n",
        "drive.mount('/content/gdrive')"
      ],
      "execution_count": 5,
      "outputs": [
        {
          "output_type": "stream",
          "text": [
            "Go to this URL in a browser: https://accounts.google.com/o/oauth2/auth?client_id=947318989803-6bn6qk8qdgf4n4g3pfee6491hc0brc4i.apps.googleusercontent.com&redirect_uri=urn%3aietf%3awg%3aoauth%3a2.0%3aoob&response_type=code&scope=email%20https%3a%2f%2fwww.googleapis.com%2fauth%2fdocs.test%20https%3a%2f%2fwww.googleapis.com%2fauth%2fdrive%20https%3a%2f%2fwww.googleapis.com%2fauth%2fdrive.photos.readonly%20https%3a%2f%2fwww.googleapis.com%2fauth%2fpeopleapi.readonly\n",
            "\n",
            "Enter your authorization code:\n",
            "··········\n",
            "Mounted at /content/gdrive\n"
          ],
          "name": "stdout"
        }
      ]
    },
    {
      "cell_type": "code",
      "metadata": {
        "id": "fdAEStPPBQtD",
        "colab_type": "code",
        "colab": {}
      },
      "source": [
        "dataset_path=\"/content/gdrive/My Drive/Bird Species/Bird_dataset.zip\"\n",
        "zfile=zipfile.ZipFile(dataset_path)\n",
        "zfile.extractall()"
      ],
      "execution_count": 4,
      "outputs": []
    },
    {
      "cell_type": "code",
      "metadata": {
        "id": "Bxkyqrzqht6S",
        "colab_type": "code",
        "colab": {}
      },
      "source": [
        "l1=[]\n",
        "with zipfile.ZipFile('/content/gdrive/My Drive/Bird Species/Bird_dataset.zip') as z:\n",
        "    for filename in z.namelist():\n",
        "        if filename.startswith(\"train\"):\n",
        "            l1.append(filename)   \n",
        "\n",
        "l2=[]\n",
        "for name in l1:\n",
        "  l2.append(re.split('/', name)) \n",
        "\n",
        "class_name=[]\n",
        "for i in l2:\n",
        "  class_name.append(i[1])  \n",
        "\n",
        "class_name = list(dict.fromkeys(class_name))                      "
      ],
      "execution_count": 5,
      "outputs": []
    },
    {
      "cell_type": "code",
      "metadata": {
        "id": "1fRmEXuJHUes",
        "colab_type": "code",
        "colab": {}
      },
      "source": [
        "BATCH_SIZE = 32\n",
        "IMG_HEIGHT = 128\n",
        "IMG_WIDTH = 128\n",
        "SHUFFLE_BUFFER_SIZE = 1000\n",
        "image_count = len(class_name)"
      ],
      "execution_count": 6,
      "outputs": []
    },
    {
      "cell_type": "code",
      "metadata": {
        "id": "ypkRGvoqHt0P",
        "colab_type": "code",
        "colab": {
          "base_uri": "https://localhost:8080/",
          "height": 67
        },
        "outputId": "3ee86e6b-ab94-45d4-a74e-4e868b135330"
      },
      "source": [
        "trd = ImageDataGenerator(rescale = 1./255,shear_range=0.2,zoom_range=0.2,)\n",
        "train_data = trd.flow_from_directory(directory=\"train\",\n",
        "                                      color_mode=\"rgb\",\n",
        "                                      batch_size=BATCH_SIZE,\n",
        "                                      shuffle=True,\n",
        "                                      target_size=(IMG_HEIGHT, IMG_WIDTH),\n",
        "                                      class_mode=\"categorical\",\n",
        "                                      classes = class_name\n",
        "                                    )\n",
        "tsd = ImageDataGenerator(rescale = 1./255)\n",
        "test_data = tsd.flow_from_directory(directory=\"test\", \n",
        "                                      target_size=(IMG_HEIGHT, IMG_WIDTH),\n",
        "                                      color_mode=\"rgb\",\n",
        "                                      batch_size=1,\n",
        "                                      class_mode=None,\n",
        "                                      shuffle=False,\n",
        "                                      classes = class_name\n",
        "                                    ) \n",
        "vd = ImageDataGenerator(rescale = 1./255)\n",
        "valid_data = vd.flow_from_directory(directory=\"valid\", \n",
        "                                      target_size=(IMG_HEIGHT, IMG_WIDTH),\n",
        "                                      color_mode=\"rgb\",\n",
        "                                      batch_size=BATCH_SIZE,\n",
        "                                      class_mode=\"categorical\",\n",
        "                                      shuffle=True,\n",
        "                                      classes = class_name\n",
        "                                    )\n"
      ],
      "execution_count": 7,
      "outputs": [
        {
          "output_type": "stream",
          "text": [
            "Found 27503 images belonging to 200 classes.\n",
            "Found 1000 images belonging to 200 classes.\n",
            "Found 1000 images belonging to 200 classes.\n"
          ],
          "name": "stdout"
        }
      ]
    },
    {
      "cell_type": "code",
      "metadata": {
        "id": "gE8DBTIwZffg",
        "colab_type": "code",
        "colab": {}
      },
      "source": [
        "image_size=128\n",
        "IMG_SHAPE=(image_size,image_size,3)"
      ],
      "execution_count": 8,
      "outputs": []
    },
    {
      "cell_type": "code",
      "metadata": {
        "id": "Ad60MohwIhCS",
        "colab_type": "code",
        "colab": {}
      },
      "source": [
        "base_model=tf.keras.applications.MobileNetV2(input_shape=IMG_SHAPE,include_top=False,weights='imagenet')"
      ],
      "execution_count": 9,
      "outputs": []
    },
    {
      "cell_type": "code",
      "metadata": {
        "id": "qm_4xepgjFBb",
        "colab_type": "code",
        "colab": {
          "base_uri": "https://localhost:8080/",
          "height": 1000
        },
        "outputId": "b9d11413-82f7-4726-a41a-c99dac89fff3"
      },
      "source": [
        "base_model.summary()"
      ],
      "execution_count": 10,
      "outputs": [
        {
          "output_type": "stream",
          "text": [
            "Model: \"mobilenetv2_1.00_128\"\n",
            "__________________________________________________________________________________________________\n",
            "Layer (type)                    Output Shape         Param #     Connected to                     \n",
            "==================================================================================================\n",
            "input_1 (InputLayer)            [(None, 128, 128, 3) 0                                            \n",
            "__________________________________________________________________________________________________\n",
            "Conv1_pad (ZeroPadding2D)       (None, 129, 129, 3)  0           input_1[0][0]                    \n",
            "__________________________________________________________________________________________________\n",
            "Conv1 (Conv2D)                  (None, 64, 64, 32)   864         Conv1_pad[0][0]                  \n",
            "__________________________________________________________________________________________________\n",
            "bn_Conv1 (BatchNormalization)   (None, 64, 64, 32)   128         Conv1[0][0]                      \n",
            "__________________________________________________________________________________________________\n",
            "Conv1_relu (ReLU)               (None, 64, 64, 32)   0           bn_Conv1[0][0]                   \n",
            "__________________________________________________________________________________________________\n",
            "expanded_conv_depthwise (Depthw (None, 64, 64, 32)   288         Conv1_relu[0][0]                 \n",
            "__________________________________________________________________________________________________\n",
            "expanded_conv_depthwise_BN (Bat (None, 64, 64, 32)   128         expanded_conv_depthwise[0][0]    \n",
            "__________________________________________________________________________________________________\n",
            "expanded_conv_depthwise_relu (R (None, 64, 64, 32)   0           expanded_conv_depthwise_BN[0][0] \n",
            "__________________________________________________________________________________________________\n",
            "expanded_conv_project (Conv2D)  (None, 64, 64, 16)   512         expanded_conv_depthwise_relu[0][0\n",
            "__________________________________________________________________________________________________\n",
            "expanded_conv_project_BN (Batch (None, 64, 64, 16)   64          expanded_conv_project[0][0]      \n",
            "__________________________________________________________________________________________________\n",
            "block_1_expand (Conv2D)         (None, 64, 64, 96)   1536        expanded_conv_project_BN[0][0]   \n",
            "__________________________________________________________________________________________________\n",
            "block_1_expand_BN (BatchNormali (None, 64, 64, 96)   384         block_1_expand[0][0]             \n",
            "__________________________________________________________________________________________________\n",
            "block_1_expand_relu (ReLU)      (None, 64, 64, 96)   0           block_1_expand_BN[0][0]          \n",
            "__________________________________________________________________________________________________\n",
            "block_1_pad (ZeroPadding2D)     (None, 65, 65, 96)   0           block_1_expand_relu[0][0]        \n",
            "__________________________________________________________________________________________________\n",
            "block_1_depthwise (DepthwiseCon (None, 32, 32, 96)   864         block_1_pad[0][0]                \n",
            "__________________________________________________________________________________________________\n",
            "block_1_depthwise_BN (BatchNorm (None, 32, 32, 96)   384         block_1_depthwise[0][0]          \n",
            "__________________________________________________________________________________________________\n",
            "block_1_depthwise_relu (ReLU)   (None, 32, 32, 96)   0           block_1_depthwise_BN[0][0]       \n",
            "__________________________________________________________________________________________________\n",
            "block_1_project (Conv2D)        (None, 32, 32, 24)   2304        block_1_depthwise_relu[0][0]     \n",
            "__________________________________________________________________________________________________\n",
            "block_1_project_BN (BatchNormal (None, 32, 32, 24)   96          block_1_project[0][0]            \n",
            "__________________________________________________________________________________________________\n",
            "block_2_expand (Conv2D)         (None, 32, 32, 144)  3456        block_1_project_BN[0][0]         \n",
            "__________________________________________________________________________________________________\n",
            "block_2_expand_BN (BatchNormali (None, 32, 32, 144)  576         block_2_expand[0][0]             \n",
            "__________________________________________________________________________________________________\n",
            "block_2_expand_relu (ReLU)      (None, 32, 32, 144)  0           block_2_expand_BN[0][0]          \n",
            "__________________________________________________________________________________________________\n",
            "block_2_depthwise (DepthwiseCon (None, 32, 32, 144)  1296        block_2_expand_relu[0][0]        \n",
            "__________________________________________________________________________________________________\n",
            "block_2_depthwise_BN (BatchNorm (None, 32, 32, 144)  576         block_2_depthwise[0][0]          \n",
            "__________________________________________________________________________________________________\n",
            "block_2_depthwise_relu (ReLU)   (None, 32, 32, 144)  0           block_2_depthwise_BN[0][0]       \n",
            "__________________________________________________________________________________________________\n",
            "block_2_project (Conv2D)        (None, 32, 32, 24)   3456        block_2_depthwise_relu[0][0]     \n",
            "__________________________________________________________________________________________________\n",
            "block_2_project_BN (BatchNormal (None, 32, 32, 24)   96          block_2_project[0][0]            \n",
            "__________________________________________________________________________________________________\n",
            "block_2_add (Add)               (None, 32, 32, 24)   0           block_1_project_BN[0][0]         \n",
            "                                                                 block_2_project_BN[0][0]         \n",
            "__________________________________________________________________________________________________\n",
            "block_3_expand (Conv2D)         (None, 32, 32, 144)  3456        block_2_add[0][0]                \n",
            "__________________________________________________________________________________________________\n",
            "block_3_expand_BN (BatchNormali (None, 32, 32, 144)  576         block_3_expand[0][0]             \n",
            "__________________________________________________________________________________________________\n",
            "block_3_expand_relu (ReLU)      (None, 32, 32, 144)  0           block_3_expand_BN[0][0]          \n",
            "__________________________________________________________________________________________________\n",
            "block_3_pad (ZeroPadding2D)     (None, 33, 33, 144)  0           block_3_expand_relu[0][0]        \n",
            "__________________________________________________________________________________________________\n",
            "block_3_depthwise (DepthwiseCon (None, 16, 16, 144)  1296        block_3_pad[0][0]                \n",
            "__________________________________________________________________________________________________\n",
            "block_3_depthwise_BN (BatchNorm (None, 16, 16, 144)  576         block_3_depthwise[0][0]          \n",
            "__________________________________________________________________________________________________\n",
            "block_3_depthwise_relu (ReLU)   (None, 16, 16, 144)  0           block_3_depthwise_BN[0][0]       \n",
            "__________________________________________________________________________________________________\n",
            "block_3_project (Conv2D)        (None, 16, 16, 32)   4608        block_3_depthwise_relu[0][0]     \n",
            "__________________________________________________________________________________________________\n",
            "block_3_project_BN (BatchNormal (None, 16, 16, 32)   128         block_3_project[0][0]            \n",
            "__________________________________________________________________________________________________\n",
            "block_4_expand (Conv2D)         (None, 16, 16, 192)  6144        block_3_project_BN[0][0]         \n",
            "__________________________________________________________________________________________________\n",
            "block_4_expand_BN (BatchNormali (None, 16, 16, 192)  768         block_4_expand[0][0]             \n",
            "__________________________________________________________________________________________________\n",
            "block_4_expand_relu (ReLU)      (None, 16, 16, 192)  0           block_4_expand_BN[0][0]          \n",
            "__________________________________________________________________________________________________\n",
            "block_4_depthwise (DepthwiseCon (None, 16, 16, 192)  1728        block_4_expand_relu[0][0]        \n",
            "__________________________________________________________________________________________________\n",
            "block_4_depthwise_BN (BatchNorm (None, 16, 16, 192)  768         block_4_depthwise[0][0]          \n",
            "__________________________________________________________________________________________________\n",
            "block_4_depthwise_relu (ReLU)   (None, 16, 16, 192)  0           block_4_depthwise_BN[0][0]       \n",
            "__________________________________________________________________________________________________\n",
            "block_4_project (Conv2D)        (None, 16, 16, 32)   6144        block_4_depthwise_relu[0][0]     \n",
            "__________________________________________________________________________________________________\n",
            "block_4_project_BN (BatchNormal (None, 16, 16, 32)   128         block_4_project[0][0]            \n",
            "__________________________________________________________________________________________________\n",
            "block_4_add (Add)               (None, 16, 16, 32)   0           block_3_project_BN[0][0]         \n",
            "                                                                 block_4_project_BN[0][0]         \n",
            "__________________________________________________________________________________________________\n",
            "block_5_expand (Conv2D)         (None, 16, 16, 192)  6144        block_4_add[0][0]                \n",
            "__________________________________________________________________________________________________\n",
            "block_5_expand_BN (BatchNormali (None, 16, 16, 192)  768         block_5_expand[0][0]             \n",
            "__________________________________________________________________________________________________\n",
            "block_5_expand_relu (ReLU)      (None, 16, 16, 192)  0           block_5_expand_BN[0][0]          \n",
            "__________________________________________________________________________________________________\n",
            "block_5_depthwise (DepthwiseCon (None, 16, 16, 192)  1728        block_5_expand_relu[0][0]        \n",
            "__________________________________________________________________________________________________\n",
            "block_5_depthwise_BN (BatchNorm (None, 16, 16, 192)  768         block_5_depthwise[0][0]          \n",
            "__________________________________________________________________________________________________\n",
            "block_5_depthwise_relu (ReLU)   (None, 16, 16, 192)  0           block_5_depthwise_BN[0][0]       \n",
            "__________________________________________________________________________________________________\n",
            "block_5_project (Conv2D)        (None, 16, 16, 32)   6144        block_5_depthwise_relu[0][0]     \n",
            "__________________________________________________________________________________________________\n",
            "block_5_project_BN (BatchNormal (None, 16, 16, 32)   128         block_5_project[0][0]            \n",
            "__________________________________________________________________________________________________\n",
            "block_5_add (Add)               (None, 16, 16, 32)   0           block_4_add[0][0]                \n",
            "                                                                 block_5_project_BN[0][0]         \n",
            "__________________________________________________________________________________________________\n",
            "block_6_expand (Conv2D)         (None, 16, 16, 192)  6144        block_5_add[0][0]                \n",
            "__________________________________________________________________________________________________\n",
            "block_6_expand_BN (BatchNormali (None, 16, 16, 192)  768         block_6_expand[0][0]             \n",
            "__________________________________________________________________________________________________\n",
            "block_6_expand_relu (ReLU)      (None, 16, 16, 192)  0           block_6_expand_BN[0][0]          \n",
            "__________________________________________________________________________________________________\n",
            "block_6_pad (ZeroPadding2D)     (None, 17, 17, 192)  0           block_6_expand_relu[0][0]        \n",
            "__________________________________________________________________________________________________\n",
            "block_6_depthwise (DepthwiseCon (None, 8, 8, 192)    1728        block_6_pad[0][0]                \n",
            "__________________________________________________________________________________________________\n",
            "block_6_depthwise_BN (BatchNorm (None, 8, 8, 192)    768         block_6_depthwise[0][0]          \n",
            "__________________________________________________________________________________________________\n",
            "block_6_depthwise_relu (ReLU)   (None, 8, 8, 192)    0           block_6_depthwise_BN[0][0]       \n",
            "__________________________________________________________________________________________________\n",
            "block_6_project (Conv2D)        (None, 8, 8, 64)     12288       block_6_depthwise_relu[0][0]     \n",
            "__________________________________________________________________________________________________\n",
            "block_6_project_BN (BatchNormal (None, 8, 8, 64)     256         block_6_project[0][0]            \n",
            "__________________________________________________________________________________________________\n",
            "block_7_expand (Conv2D)         (None, 8, 8, 384)    24576       block_6_project_BN[0][0]         \n",
            "__________________________________________________________________________________________________\n",
            "block_7_expand_BN (BatchNormali (None, 8, 8, 384)    1536        block_7_expand[0][0]             \n",
            "__________________________________________________________________________________________________\n",
            "block_7_expand_relu (ReLU)      (None, 8, 8, 384)    0           block_7_expand_BN[0][0]          \n",
            "__________________________________________________________________________________________________\n",
            "block_7_depthwise (DepthwiseCon (None, 8, 8, 384)    3456        block_7_expand_relu[0][0]        \n",
            "__________________________________________________________________________________________________\n",
            "block_7_depthwise_BN (BatchNorm (None, 8, 8, 384)    1536        block_7_depthwise[0][0]          \n",
            "__________________________________________________________________________________________________\n",
            "block_7_depthwise_relu (ReLU)   (None, 8, 8, 384)    0           block_7_depthwise_BN[0][0]       \n",
            "__________________________________________________________________________________________________\n",
            "block_7_project (Conv2D)        (None, 8, 8, 64)     24576       block_7_depthwise_relu[0][0]     \n",
            "__________________________________________________________________________________________________\n",
            "block_7_project_BN (BatchNormal (None, 8, 8, 64)     256         block_7_project[0][0]            \n",
            "__________________________________________________________________________________________________\n",
            "block_7_add (Add)               (None, 8, 8, 64)     0           block_6_project_BN[0][0]         \n",
            "                                                                 block_7_project_BN[0][0]         \n",
            "__________________________________________________________________________________________________\n",
            "block_8_expand (Conv2D)         (None, 8, 8, 384)    24576       block_7_add[0][0]                \n",
            "__________________________________________________________________________________________________\n",
            "block_8_expand_BN (BatchNormali (None, 8, 8, 384)    1536        block_8_expand[0][0]             \n",
            "__________________________________________________________________________________________________\n",
            "block_8_expand_relu (ReLU)      (None, 8, 8, 384)    0           block_8_expand_BN[0][0]          \n",
            "__________________________________________________________________________________________________\n",
            "block_8_depthwise (DepthwiseCon (None, 8, 8, 384)    3456        block_8_expand_relu[0][0]        \n",
            "__________________________________________________________________________________________________\n",
            "block_8_depthwise_BN (BatchNorm (None, 8, 8, 384)    1536        block_8_depthwise[0][0]          \n",
            "__________________________________________________________________________________________________\n",
            "block_8_depthwise_relu (ReLU)   (None, 8, 8, 384)    0           block_8_depthwise_BN[0][0]       \n",
            "__________________________________________________________________________________________________\n",
            "block_8_project (Conv2D)        (None, 8, 8, 64)     24576       block_8_depthwise_relu[0][0]     \n",
            "__________________________________________________________________________________________________\n",
            "block_8_project_BN (BatchNormal (None, 8, 8, 64)     256         block_8_project[0][0]            \n",
            "__________________________________________________________________________________________________\n",
            "block_8_add (Add)               (None, 8, 8, 64)     0           block_7_add[0][0]                \n",
            "                                                                 block_8_project_BN[0][0]         \n",
            "__________________________________________________________________________________________________\n",
            "block_9_expand (Conv2D)         (None, 8, 8, 384)    24576       block_8_add[0][0]                \n",
            "__________________________________________________________________________________________________\n",
            "block_9_expand_BN (BatchNormali (None, 8, 8, 384)    1536        block_9_expand[0][0]             \n",
            "__________________________________________________________________________________________________\n",
            "block_9_expand_relu (ReLU)      (None, 8, 8, 384)    0           block_9_expand_BN[0][0]          \n",
            "__________________________________________________________________________________________________\n",
            "block_9_depthwise (DepthwiseCon (None, 8, 8, 384)    3456        block_9_expand_relu[0][0]        \n",
            "__________________________________________________________________________________________________\n",
            "block_9_depthwise_BN (BatchNorm (None, 8, 8, 384)    1536        block_9_depthwise[0][0]          \n",
            "__________________________________________________________________________________________________\n",
            "block_9_depthwise_relu (ReLU)   (None, 8, 8, 384)    0           block_9_depthwise_BN[0][0]       \n",
            "__________________________________________________________________________________________________\n",
            "block_9_project (Conv2D)        (None, 8, 8, 64)     24576       block_9_depthwise_relu[0][0]     \n",
            "__________________________________________________________________________________________________\n",
            "block_9_project_BN (BatchNormal (None, 8, 8, 64)     256         block_9_project[0][0]            \n",
            "__________________________________________________________________________________________________\n",
            "block_9_add (Add)               (None, 8, 8, 64)     0           block_8_add[0][0]                \n",
            "                                                                 block_9_project_BN[0][0]         \n",
            "__________________________________________________________________________________________________\n",
            "block_10_expand (Conv2D)        (None, 8, 8, 384)    24576       block_9_add[0][0]                \n",
            "__________________________________________________________________________________________________\n",
            "block_10_expand_BN (BatchNormal (None, 8, 8, 384)    1536        block_10_expand[0][0]            \n",
            "__________________________________________________________________________________________________\n",
            "block_10_expand_relu (ReLU)     (None, 8, 8, 384)    0           block_10_expand_BN[0][0]         \n",
            "__________________________________________________________________________________________________\n",
            "block_10_depthwise (DepthwiseCo (None, 8, 8, 384)    3456        block_10_expand_relu[0][0]       \n",
            "__________________________________________________________________________________________________\n",
            "block_10_depthwise_BN (BatchNor (None, 8, 8, 384)    1536        block_10_depthwise[0][0]         \n",
            "__________________________________________________________________________________________________\n",
            "block_10_depthwise_relu (ReLU)  (None, 8, 8, 384)    0           block_10_depthwise_BN[0][0]      \n",
            "__________________________________________________________________________________________________\n",
            "block_10_project (Conv2D)       (None, 8, 8, 96)     36864       block_10_depthwise_relu[0][0]    \n",
            "__________________________________________________________________________________________________\n",
            "block_10_project_BN (BatchNorma (None, 8, 8, 96)     384         block_10_project[0][0]           \n",
            "__________________________________________________________________________________________________\n",
            "block_11_expand (Conv2D)        (None, 8, 8, 576)    55296       block_10_project_BN[0][0]        \n",
            "__________________________________________________________________________________________________\n",
            "block_11_expand_BN (BatchNormal (None, 8, 8, 576)    2304        block_11_expand[0][0]            \n",
            "__________________________________________________________________________________________________\n",
            "block_11_expand_relu (ReLU)     (None, 8, 8, 576)    0           block_11_expand_BN[0][0]         \n",
            "__________________________________________________________________________________________________\n",
            "block_11_depthwise (DepthwiseCo (None, 8, 8, 576)    5184        block_11_expand_relu[0][0]       \n",
            "__________________________________________________________________________________________________\n",
            "block_11_depthwise_BN (BatchNor (None, 8, 8, 576)    2304        block_11_depthwise[0][0]         \n",
            "__________________________________________________________________________________________________\n",
            "block_11_depthwise_relu (ReLU)  (None, 8, 8, 576)    0           block_11_depthwise_BN[0][0]      \n",
            "__________________________________________________________________________________________________\n",
            "block_11_project (Conv2D)       (None, 8, 8, 96)     55296       block_11_depthwise_relu[0][0]    \n",
            "__________________________________________________________________________________________________\n",
            "block_11_project_BN (BatchNorma (None, 8, 8, 96)     384         block_11_project[0][0]           \n",
            "__________________________________________________________________________________________________\n",
            "block_11_add (Add)              (None, 8, 8, 96)     0           block_10_project_BN[0][0]        \n",
            "                                                                 block_11_project_BN[0][0]        \n",
            "__________________________________________________________________________________________________\n",
            "block_12_expand (Conv2D)        (None, 8, 8, 576)    55296       block_11_add[0][0]               \n",
            "__________________________________________________________________________________________________\n",
            "block_12_expand_BN (BatchNormal (None, 8, 8, 576)    2304        block_12_expand[0][0]            \n",
            "__________________________________________________________________________________________________\n",
            "block_12_expand_relu (ReLU)     (None, 8, 8, 576)    0           block_12_expand_BN[0][0]         \n",
            "__________________________________________________________________________________________________\n",
            "block_12_depthwise (DepthwiseCo (None, 8, 8, 576)    5184        block_12_expand_relu[0][0]       \n",
            "__________________________________________________________________________________________________\n",
            "block_12_depthwise_BN (BatchNor (None, 8, 8, 576)    2304        block_12_depthwise[0][0]         \n",
            "__________________________________________________________________________________________________\n",
            "block_12_depthwise_relu (ReLU)  (None, 8, 8, 576)    0           block_12_depthwise_BN[0][0]      \n",
            "__________________________________________________________________________________________________\n",
            "block_12_project (Conv2D)       (None, 8, 8, 96)     55296       block_12_depthwise_relu[0][0]    \n",
            "__________________________________________________________________________________________________\n",
            "block_12_project_BN (BatchNorma (None, 8, 8, 96)     384         block_12_project[0][0]           \n",
            "__________________________________________________________________________________________________\n",
            "block_12_add (Add)              (None, 8, 8, 96)     0           block_11_add[0][0]               \n",
            "                                                                 block_12_project_BN[0][0]        \n",
            "__________________________________________________________________________________________________\n",
            "block_13_expand (Conv2D)        (None, 8, 8, 576)    55296       block_12_add[0][0]               \n",
            "__________________________________________________________________________________________________\n",
            "block_13_expand_BN (BatchNormal (None, 8, 8, 576)    2304        block_13_expand[0][0]            \n",
            "__________________________________________________________________________________________________\n",
            "block_13_expand_relu (ReLU)     (None, 8, 8, 576)    0           block_13_expand_BN[0][0]         \n",
            "__________________________________________________________________________________________________\n",
            "block_13_pad (ZeroPadding2D)    (None, 9, 9, 576)    0           block_13_expand_relu[0][0]       \n",
            "__________________________________________________________________________________________________\n",
            "block_13_depthwise (DepthwiseCo (None, 4, 4, 576)    5184        block_13_pad[0][0]               \n",
            "__________________________________________________________________________________________________\n",
            "block_13_depthwise_BN (BatchNor (None, 4, 4, 576)    2304        block_13_depthwise[0][0]         \n",
            "__________________________________________________________________________________________________\n",
            "block_13_depthwise_relu (ReLU)  (None, 4, 4, 576)    0           block_13_depthwise_BN[0][0]      \n",
            "__________________________________________________________________________________________________\n",
            "block_13_project (Conv2D)       (None, 4, 4, 160)    92160       block_13_depthwise_relu[0][0]    \n",
            "__________________________________________________________________________________________________\n",
            "block_13_project_BN (BatchNorma (None, 4, 4, 160)    640         block_13_project[0][0]           \n",
            "__________________________________________________________________________________________________\n",
            "block_14_expand (Conv2D)        (None, 4, 4, 960)    153600      block_13_project_BN[0][0]        \n",
            "__________________________________________________________________________________________________\n",
            "block_14_expand_BN (BatchNormal (None, 4, 4, 960)    3840        block_14_expand[0][0]            \n",
            "__________________________________________________________________________________________________\n",
            "block_14_expand_relu (ReLU)     (None, 4, 4, 960)    0           block_14_expand_BN[0][0]         \n",
            "__________________________________________________________________________________________________\n",
            "block_14_depthwise (DepthwiseCo (None, 4, 4, 960)    8640        block_14_expand_relu[0][0]       \n",
            "__________________________________________________________________________________________________\n",
            "block_14_depthwise_BN (BatchNor (None, 4, 4, 960)    3840        block_14_depthwise[0][0]         \n",
            "__________________________________________________________________________________________________\n",
            "block_14_depthwise_relu (ReLU)  (None, 4, 4, 960)    0           block_14_depthwise_BN[0][0]      \n",
            "__________________________________________________________________________________________________\n",
            "block_14_project (Conv2D)       (None, 4, 4, 160)    153600      block_14_depthwise_relu[0][0]    \n",
            "__________________________________________________________________________________________________\n",
            "block_14_project_BN (BatchNorma (None, 4, 4, 160)    640         block_14_project[0][0]           \n",
            "__________________________________________________________________________________________________\n",
            "block_14_add (Add)              (None, 4, 4, 160)    0           block_13_project_BN[0][0]        \n",
            "                                                                 block_14_project_BN[0][0]        \n",
            "__________________________________________________________________________________________________\n",
            "block_15_expand (Conv2D)        (None, 4, 4, 960)    153600      block_14_add[0][0]               \n",
            "__________________________________________________________________________________________________\n",
            "block_15_expand_BN (BatchNormal (None, 4, 4, 960)    3840        block_15_expand[0][0]            \n",
            "__________________________________________________________________________________________________\n",
            "block_15_expand_relu (ReLU)     (None, 4, 4, 960)    0           block_15_expand_BN[0][0]         \n",
            "__________________________________________________________________________________________________\n",
            "block_15_depthwise (DepthwiseCo (None, 4, 4, 960)    8640        block_15_expand_relu[0][0]       \n",
            "__________________________________________________________________________________________________\n",
            "block_15_depthwise_BN (BatchNor (None, 4, 4, 960)    3840        block_15_depthwise[0][0]         \n",
            "__________________________________________________________________________________________________\n",
            "block_15_depthwise_relu (ReLU)  (None, 4, 4, 960)    0           block_15_depthwise_BN[0][0]      \n",
            "__________________________________________________________________________________________________\n",
            "block_15_project (Conv2D)       (None, 4, 4, 160)    153600      block_15_depthwise_relu[0][0]    \n",
            "__________________________________________________________________________________________________\n",
            "block_15_project_BN (BatchNorma (None, 4, 4, 160)    640         block_15_project[0][0]           \n",
            "__________________________________________________________________________________________________\n",
            "block_15_add (Add)              (None, 4, 4, 160)    0           block_14_add[0][0]               \n",
            "                                                                 block_15_project_BN[0][0]        \n",
            "__________________________________________________________________________________________________\n",
            "block_16_expand (Conv2D)        (None, 4, 4, 960)    153600      block_15_add[0][0]               \n",
            "__________________________________________________________________________________________________\n",
            "block_16_expand_BN (BatchNormal (None, 4, 4, 960)    3840        block_16_expand[0][0]            \n",
            "__________________________________________________________________________________________________\n",
            "block_16_expand_relu (ReLU)     (None, 4, 4, 960)    0           block_16_expand_BN[0][0]         \n",
            "__________________________________________________________________________________________________\n",
            "block_16_depthwise (DepthwiseCo (None, 4, 4, 960)    8640        block_16_expand_relu[0][0]       \n",
            "__________________________________________________________________________________________________\n",
            "block_16_depthwise_BN (BatchNor (None, 4, 4, 960)    3840        block_16_depthwise[0][0]         \n",
            "__________________________________________________________________________________________________\n",
            "block_16_depthwise_relu (ReLU)  (None, 4, 4, 960)    0           block_16_depthwise_BN[0][0]      \n",
            "__________________________________________________________________________________________________\n",
            "block_16_project (Conv2D)       (None, 4, 4, 320)    307200      block_16_depthwise_relu[0][0]    \n",
            "__________________________________________________________________________________________________\n",
            "block_16_project_BN (BatchNorma (None, 4, 4, 320)    1280        block_16_project[0][0]           \n",
            "__________________________________________________________________________________________________\n",
            "Conv_1 (Conv2D)                 (None, 4, 4, 1280)   409600      block_16_project_BN[0][0]        \n",
            "__________________________________________________________________________________________________\n",
            "Conv_1_bn (BatchNormalization)  (None, 4, 4, 1280)   5120        Conv_1[0][0]                     \n",
            "__________________________________________________________________________________________________\n",
            "out_relu (ReLU)                 (None, 4, 4, 1280)   0           Conv_1_bn[0][0]                  \n",
            "==================================================================================================\n",
            "Total params: 2,257,984\n",
            "Trainable params: 2,223,872\n",
            "Non-trainable params: 34,112\n",
            "__________________________________________________________________________________________________\n"
          ],
          "name": "stdout"
        }
      ]
    },
    {
      "cell_type": "code",
      "metadata": {
        "id": "SxpT0AvEJJN5",
        "colab_type": "code",
        "colab": {}
      },
      "source": [
        "base_model.trainable = False"
      ],
      "execution_count": 11,
      "outputs": []
    },
    {
      "cell_type": "code",
      "metadata": {
        "id": "2Ds5nbo4JTde",
        "colab_type": "code",
        "colab": {}
      },
      "source": [
        "model = tf.keras.Sequential([\n",
        "                             base_model,\n",
        "                             tf.keras.layers.GlobalAveragePooling2D(),\n",
        "                             tf.keras.layers.Dense(200,activation='softmax')\n",
        "])"
      ],
      "execution_count": 12,
      "outputs": []
    },
    {
      "cell_type": "code",
      "metadata": {
        "id": "nLRkZBH_J9Dj",
        "colab_type": "code",
        "colab": {}
      },
      "source": [
        "model.compile(optimizer=tf.keras.optimizers.RMSprop(lr=0.0001),\n",
        "              loss='categorical_crossentropy',\n",
        "              metrics=['accuracy'] \n",
        "              )"
      ],
      "execution_count": 13,
      "outputs": []
    },
    {
      "cell_type": "code",
      "metadata": {
        "id": "FoUR1fvRjH5U",
        "colab_type": "code",
        "colab": {
          "base_uri": "https://localhost:8080/",
          "height": 252
        },
        "outputId": "992cf111-5f45-4248-c90a-c2e45b9e576e"
      },
      "source": [
        "model.summary()"
      ],
      "execution_count": 14,
      "outputs": [
        {
          "output_type": "stream",
          "text": [
            "Model: \"sequential\"\n",
            "_________________________________________________________________\n",
            "Layer (type)                 Output Shape              Param #   \n",
            "=================================================================\n",
            "mobilenetv2_1.00_128 (Model) (None, 4, 4, 1280)        2257984   \n",
            "_________________________________________________________________\n",
            "global_average_pooling2d (Gl (None, 1280)              0         \n",
            "_________________________________________________________________\n",
            "dense (Dense)                (None, 200)               256200    \n",
            "=================================================================\n",
            "Total params: 2,514,184\n",
            "Trainable params: 256,200\n",
            "Non-trainable params: 2,257,984\n",
            "_________________________________________________________________\n"
          ],
          "name": "stdout"
        }
      ]
    },
    {
      "cell_type": "code",
      "metadata": {
        "id": "-xmwVtpTKWpY",
        "colab_type": "code",
        "colab": {
          "base_uri": "https://localhost:8080/",
          "height": 50
        },
        "outputId": "ea898bf0-d490-4cca-906b-1e57f69c0795"
      },
      "source": [
        "epochs= 100\n",
        "STEPS_PER_EPOCH = np.ceil(train_data.n/BATCH_SIZE)\n",
        "Validation_steps = np.ceil(valid_data.n/BATCH_SIZE) \n",
        "print(STEPS_PER_EPOCH)\n",
        "print(Validation_steps)"
      ],
      "execution_count": 15,
      "outputs": [
        {
          "output_type": "stream",
          "text": [
            "860.0\n",
            "32.0\n"
          ],
          "name": "stdout"
        }
      ]
    },
    {
      "cell_type": "code",
      "metadata": {
        "id": "7ojLA6dxKwJo",
        "colab_type": "code",
        "colab": {
          "base_uri": "https://localhost:8080/",
          "height": 1000
        },
        "outputId": "f3a59a54-03f0-44d4-bf5c-47b2222de058"
      },
      "source": [
        "history = model.fit(\n",
        "    train_data,\n",
        "    steps_per_epoch = STEPS_PER_EPOCH,\n",
        "    epochs = epochs,\n",
        "    workers=4,\n",
        "    validation_data=valid_data,\n",
        "    validation_steps=Validation_steps\n",
        ")                       "
      ],
      "execution_count": 16,
      "outputs": [
        {
          "output_type": "stream",
          "text": [
            "Epoch 1/100\n",
            "860/860 [==============================] - 125s 145ms/step - loss: 3.5902 - accuracy: 0.2858 - val_loss: 2.0012 - val_accuracy: 0.6190\n",
            "Epoch 2/100\n",
            "860/860 [==============================] - 123s 143ms/step - loss: 1.6995 - accuracy: 0.6387 - val_loss: 1.1328 - val_accuracy: 0.7550\n",
            "Epoch 3/100\n",
            "860/860 [==============================] - 124s 144ms/step - loss: 1.1944 - accuracy: 0.7235 - val_loss: 0.8478 - val_accuracy: 0.8040\n",
            "Epoch 4/100\n",
            "860/860 [==============================] - 123s 143ms/step - loss: 0.9769 - accuracy: 0.7638 - val_loss: 0.7069 - val_accuracy: 0.8230\n",
            "Epoch 5/100\n",
            "860/860 [==============================] - 123s 143ms/step - loss: 0.8674 - accuracy: 0.7842 - val_loss: 0.6285 - val_accuracy: 0.8300\n",
            "Epoch 6/100\n",
            "860/860 [==============================] - 122s 142ms/step - loss: 0.7826 - accuracy: 0.8018 - val_loss: 0.5661 - val_accuracy: 0.8430\n",
            "Epoch 7/100\n",
            "860/860 [==============================] - 123s 143ms/step - loss: 0.7317 - accuracy: 0.8106 - val_loss: 0.5223 - val_accuracy: 0.8550\n",
            "Epoch 8/100\n",
            "860/860 [==============================] - 123s 143ms/step - loss: 0.6840 - accuracy: 0.8190 - val_loss: 0.4930 - val_accuracy: 0.8580\n",
            "Epoch 9/100\n",
            "860/860 [==============================] - 123s 143ms/step - loss: 0.6481 - accuracy: 0.8290 - val_loss: 0.4682 - val_accuracy: 0.8640\n",
            "Epoch 10/100\n",
            "860/860 [==============================] - 123s 142ms/step - loss: 0.6196 - accuracy: 0.8358 - val_loss: 0.4502 - val_accuracy: 0.8630\n",
            "Epoch 11/100\n",
            "860/860 [==============================] - 123s 143ms/step - loss: 0.5897 - accuracy: 0.8433 - val_loss: 0.4337 - val_accuracy: 0.8710\n",
            "Epoch 12/100\n",
            "860/860 [==============================] - 123s 143ms/step - loss: 0.5728 - accuracy: 0.8476 - val_loss: 0.4223 - val_accuracy: 0.8740\n",
            "Epoch 13/100\n",
            "860/860 [==============================] - 123s 143ms/step - loss: 0.5536 - accuracy: 0.8511 - val_loss: 0.4093 - val_accuracy: 0.8740\n",
            "Epoch 14/100\n",
            "860/860 [==============================] - 122s 142ms/step - loss: 0.5355 - accuracy: 0.8554 - val_loss: 0.3973 - val_accuracy: 0.8830\n",
            "Epoch 15/100\n",
            "860/860 [==============================] - 124s 144ms/step - loss: 0.5204 - accuracy: 0.8597 - val_loss: 0.3963 - val_accuracy: 0.8770\n",
            "Epoch 16/100\n",
            "860/860 [==============================] - 123s 143ms/step - loss: 0.5041 - accuracy: 0.8625 - val_loss: 0.3911 - val_accuracy: 0.8840\n",
            "Epoch 17/100\n",
            "860/860 [==============================] - 124s 144ms/step - loss: 0.4949 - accuracy: 0.8671 - val_loss: 0.3833 - val_accuracy: 0.8770\n",
            "Epoch 18/100\n",
            "860/860 [==============================] - 123s 143ms/step - loss: 0.4862 - accuracy: 0.8683 - val_loss: 0.3842 - val_accuracy: 0.8810\n",
            "Epoch 19/100\n",
            "860/860 [==============================] - 123s 143ms/step - loss: 0.4748 - accuracy: 0.8722 - val_loss: 0.3735 - val_accuracy: 0.8810\n",
            "Epoch 20/100\n",
            "860/860 [==============================] - 122s 142ms/step - loss: 0.4680 - accuracy: 0.8745 - val_loss: 0.3648 - val_accuracy: 0.8910\n",
            "Epoch 21/100\n",
            "860/860 [==============================] - 122s 142ms/step - loss: 0.4613 - accuracy: 0.8773 - val_loss: 0.3521 - val_accuracy: 0.8910\n",
            "Epoch 22/100\n",
            "860/860 [==============================] - 122s 142ms/step - loss: 0.4506 - accuracy: 0.8802 - val_loss: 0.3581 - val_accuracy: 0.8890\n",
            "Epoch 23/100\n",
            "860/860 [==============================] - 122s 142ms/step - loss: 0.4407 - accuracy: 0.8793 - val_loss: 0.3537 - val_accuracy: 0.8900\n",
            "Epoch 24/100\n",
            "860/860 [==============================] - 123s 143ms/step - loss: 0.4371 - accuracy: 0.8816 - val_loss: 0.3543 - val_accuracy: 0.8890\n",
            "Epoch 25/100\n",
            "860/860 [==============================] - 123s 143ms/step - loss: 0.4199 - accuracy: 0.8856 - val_loss: 0.3521 - val_accuracy: 0.8910\n",
            "Epoch 26/100\n",
            "860/860 [==============================] - 122s 142ms/step - loss: 0.4215 - accuracy: 0.8863 - val_loss: 0.3427 - val_accuracy: 0.8920\n",
            "Epoch 27/100\n",
            "860/860 [==============================] - 122s 142ms/step - loss: 0.4166 - accuracy: 0.8878 - val_loss: 0.3417 - val_accuracy: 0.8960\n",
            "Epoch 28/100\n",
            "860/860 [==============================] - 123s 143ms/step - loss: 0.4091 - accuracy: 0.8884 - val_loss: 0.3418 - val_accuracy: 0.9010\n",
            "Epoch 29/100\n",
            "860/860 [==============================] - 122s 142ms/step - loss: 0.4040 - accuracy: 0.8913 - val_loss: 0.3404 - val_accuracy: 0.8980\n",
            "Epoch 30/100\n",
            "860/860 [==============================] - 122s 142ms/step - loss: 0.3970 - accuracy: 0.8926 - val_loss: 0.3448 - val_accuracy: 0.8990\n",
            "Epoch 31/100\n",
            "860/860 [==============================] - 122s 142ms/step - loss: 0.3941 - accuracy: 0.8937 - val_loss: 0.3395 - val_accuracy: 0.9000\n",
            "Epoch 32/100\n",
            "860/860 [==============================] - 122s 142ms/step - loss: 0.3860 - accuracy: 0.8975 - val_loss: 0.3368 - val_accuracy: 0.8980\n",
            "Epoch 33/100\n",
            "860/860 [==============================] - 122s 142ms/step - loss: 0.3843 - accuracy: 0.8961 - val_loss: 0.3354 - val_accuracy: 0.9030\n",
            "Epoch 34/100\n",
            "860/860 [==============================] - 122s 142ms/step - loss: 0.3789 - accuracy: 0.8969 - val_loss: 0.3335 - val_accuracy: 0.8970\n",
            "Epoch 35/100\n",
            "860/860 [==============================] - 123s 143ms/step - loss: 0.3750 - accuracy: 0.9002 - val_loss: 0.3363 - val_accuracy: 0.8970\n",
            "Epoch 36/100\n",
            "860/860 [==============================] - 122s 141ms/step - loss: 0.3737 - accuracy: 0.9017 - val_loss: 0.3379 - val_accuracy: 0.9000\n",
            "Epoch 37/100\n",
            "860/860 [==============================] - 121s 141ms/step - loss: 0.3677 - accuracy: 0.9030 - val_loss: 0.3299 - val_accuracy: 0.9010\n",
            "Epoch 38/100\n",
            "860/860 [==============================] - 121s 141ms/step - loss: 0.3687 - accuracy: 0.9025 - val_loss: 0.3333 - val_accuracy: 0.9010\n",
            "Epoch 39/100\n",
            "860/860 [==============================] - 120s 140ms/step - loss: 0.3627 - accuracy: 0.9049 - val_loss: 0.3330 - val_accuracy: 0.9010\n",
            "Epoch 40/100\n",
            "860/860 [==============================] - 123s 143ms/step - loss: 0.3551 - accuracy: 0.9049 - val_loss: 0.3293 - val_accuracy: 0.9040\n",
            "Epoch 41/100\n",
            "860/860 [==============================] - 123s 142ms/step - loss: 0.3579 - accuracy: 0.9046 - val_loss: 0.3274 - val_accuracy: 0.9060\n",
            "Epoch 42/100\n",
            "860/860 [==============================] - 122s 142ms/step - loss: 0.3597 - accuracy: 0.9042 - val_loss: 0.3283 - val_accuracy: 0.9060\n",
            "Epoch 43/100\n",
            "860/860 [==============================] - 123s 143ms/step - loss: 0.3496 - accuracy: 0.9064 - val_loss: 0.3360 - val_accuracy: 0.9000\n",
            "Epoch 44/100\n",
            "860/860 [==============================] - 123s 143ms/step - loss: 0.3481 - accuracy: 0.9062 - val_loss: 0.3340 - val_accuracy: 0.9030\n",
            "Epoch 45/100\n",
            "860/860 [==============================] - 123s 143ms/step - loss: 0.3447 - accuracy: 0.9094 - val_loss: 0.3329 - val_accuracy: 0.8990\n",
            "Epoch 46/100\n",
            "860/860 [==============================] - 123s 143ms/step - loss: 0.3426 - accuracy: 0.9084 - val_loss: 0.3281 - val_accuracy: 0.9020\n",
            "Epoch 47/100\n",
            "860/860 [==============================] - 123s 143ms/step - loss: 0.3345 - accuracy: 0.9122 - val_loss: 0.3275 - val_accuracy: 0.9010\n",
            "Epoch 48/100\n",
            "860/860 [==============================] - 123s 143ms/step - loss: 0.3366 - accuracy: 0.9094 - val_loss: 0.3260 - val_accuracy: 0.9020\n",
            "Epoch 49/100\n",
            "860/860 [==============================] - 123s 143ms/step - loss: 0.3345 - accuracy: 0.9119 - val_loss: 0.3270 - val_accuracy: 0.9040\n",
            "Epoch 50/100\n",
            "860/860 [==============================] - 123s 144ms/step - loss: 0.3300 - accuracy: 0.9122 - val_loss: 0.3263 - val_accuracy: 0.9040\n",
            "Epoch 51/100\n",
            "860/860 [==============================] - 124s 144ms/step - loss: 0.3291 - accuracy: 0.9134 - val_loss: 0.3318 - val_accuracy: 0.9070\n",
            "Epoch 52/100\n",
            "860/860 [==============================] - 124s 145ms/step - loss: 0.3238 - accuracy: 0.9146 - val_loss: 0.3307 - val_accuracy: 0.9010\n",
            "Epoch 53/100\n",
            "860/860 [==============================] - 124s 145ms/step - loss: 0.3191 - accuracy: 0.9139 - val_loss: 0.3326 - val_accuracy: 0.9000\n",
            "Epoch 54/100\n",
            "860/860 [==============================] - 124s 145ms/step - loss: 0.3180 - accuracy: 0.9166 - val_loss: 0.3340 - val_accuracy: 0.9010\n",
            "Epoch 55/100\n",
            "860/860 [==============================] - 125s 146ms/step - loss: 0.3167 - accuracy: 0.9146 - val_loss: 0.3339 - val_accuracy: 0.9060\n",
            "Epoch 56/100\n",
            "860/860 [==============================] - 125s 145ms/step - loss: 0.3217 - accuracy: 0.9157 - val_loss: 0.3314 - val_accuracy: 0.9030\n",
            "Epoch 57/100\n",
            "860/860 [==============================] - 124s 144ms/step - loss: 0.3148 - accuracy: 0.9166 - val_loss: 0.3246 - val_accuracy: 0.9040\n",
            "Epoch 58/100\n",
            "860/860 [==============================] - 125s 145ms/step - loss: 0.3139 - accuracy: 0.9170 - val_loss: 0.3307 - val_accuracy: 0.9060\n",
            "Epoch 59/100\n",
            "860/860 [==============================] - 125s 145ms/step - loss: 0.3143 - accuracy: 0.9158 - val_loss: 0.3279 - val_accuracy: 0.9060\n",
            "Epoch 60/100\n",
            "860/860 [==============================] - 125s 146ms/step - loss: 0.3108 - accuracy: 0.9185 - val_loss: 0.3327 - val_accuracy: 0.9060\n",
            "Epoch 61/100\n",
            "860/860 [==============================] - 125s 146ms/step - loss: 0.3074 - accuracy: 0.9198 - val_loss: 0.3378 - val_accuracy: 0.9070\n",
            "Epoch 62/100\n",
            "860/860 [==============================] - 125s 145ms/step - loss: 0.3064 - accuracy: 0.9194 - val_loss: 0.3351 - val_accuracy: 0.9050\n",
            "Epoch 63/100\n",
            "860/860 [==============================] - 125s 145ms/step - loss: 0.3000 - accuracy: 0.9212 - val_loss: 0.3339 - val_accuracy: 0.9070\n",
            "Epoch 64/100\n",
            "860/860 [==============================] - 125s 145ms/step - loss: 0.2996 - accuracy: 0.9201 - val_loss: 0.3311 - val_accuracy: 0.9050\n",
            "Epoch 65/100\n",
            "860/860 [==============================] - 125s 146ms/step - loss: 0.3046 - accuracy: 0.9199 - val_loss: 0.3340 - val_accuracy: 0.9040\n",
            "Epoch 66/100\n",
            "860/860 [==============================] - 125s 146ms/step - loss: 0.2968 - accuracy: 0.9207 - val_loss: 0.3363 - val_accuracy: 0.9040\n",
            "Epoch 67/100\n",
            "860/860 [==============================] - 125s 145ms/step - loss: 0.3006 - accuracy: 0.9212 - val_loss: 0.3319 - val_accuracy: 0.9060\n",
            "Epoch 68/100\n",
            "860/860 [==============================] - 126s 147ms/step - loss: 0.2961 - accuracy: 0.9232 - val_loss: 0.3368 - val_accuracy: 0.9060\n",
            "Epoch 69/100\n",
            "860/860 [==============================] - 126s 147ms/step - loss: 0.2916 - accuracy: 0.9252 - val_loss: 0.3358 - val_accuracy: 0.9060\n",
            "Epoch 70/100\n",
            "860/860 [==============================] - 127s 147ms/step - loss: 0.2882 - accuracy: 0.9230 - val_loss: 0.3334 - val_accuracy: 0.9100\n",
            "Epoch 71/100\n",
            "860/860 [==============================] - 126s 146ms/step - loss: 0.2912 - accuracy: 0.9239 - val_loss: 0.3401 - val_accuracy: 0.9080\n",
            "Epoch 72/100\n",
            "860/860 [==============================] - 126s 146ms/step - loss: 0.2900 - accuracy: 0.9236 - val_loss: 0.3424 - val_accuracy: 0.9040\n",
            "Epoch 73/100\n",
            "860/860 [==============================] - 125s 146ms/step - loss: 0.2922 - accuracy: 0.9230 - val_loss: 0.3433 - val_accuracy: 0.9050\n",
            "Epoch 74/100\n",
            "860/860 [==============================] - 126s 147ms/step - loss: 0.2905 - accuracy: 0.9243 - val_loss: 0.3373 - val_accuracy: 0.9080\n",
            "Epoch 75/100\n",
            "860/860 [==============================] - 127s 147ms/step - loss: 0.2852 - accuracy: 0.9252 - val_loss: 0.3360 - val_accuracy: 0.9050\n",
            "Epoch 76/100\n",
            "860/860 [==============================] - 126s 147ms/step - loss: 0.2864 - accuracy: 0.9250 - val_loss: 0.3362 - val_accuracy: 0.9040\n",
            "Epoch 77/100\n",
            "860/860 [==============================] - 126s 147ms/step - loss: 0.2791 - accuracy: 0.9264 - val_loss: 0.3409 - val_accuracy: 0.9070\n",
            "Epoch 78/100\n",
            "860/860 [==============================] - 126s 146ms/step - loss: 0.2797 - accuracy: 0.9281 - val_loss: 0.3355 - val_accuracy: 0.9060\n",
            "Epoch 79/100\n",
            "860/860 [==============================] - 126s 147ms/step - loss: 0.2795 - accuracy: 0.9280 - val_loss: 0.3406 - val_accuracy: 0.9050\n",
            "Epoch 80/100\n",
            "860/860 [==============================] - 125s 146ms/step - loss: 0.2813 - accuracy: 0.9272 - val_loss: 0.3406 - val_accuracy: 0.9030\n",
            "Epoch 81/100\n",
            "860/860 [==============================] - 134s 155ms/step - loss: 0.2838 - accuracy: 0.9249 - val_loss: 0.3396 - val_accuracy: 0.9080\n",
            "Epoch 82/100\n",
            "860/860 [==============================] - 127s 148ms/step - loss: 0.2769 - accuracy: 0.9291 - val_loss: 0.3369 - val_accuracy: 0.9080\n",
            "Epoch 83/100\n",
            "860/860 [==============================] - 127s 148ms/step - loss: 0.2771 - accuracy: 0.9273 - val_loss: 0.3388 - val_accuracy: 0.9090\n",
            "Epoch 84/100\n",
            "597/860 [===================>..........] - ETA: 37s - loss: 0.2659 - accuracy: 0.9326Buffered data was truncated after reaching the output size limit."
          ],
          "name": "stdout"
        }
      ]
    },
    {
      "cell_type": "code",
      "metadata": {
        "id": "wUrGC_ySLRG2",
        "colab_type": "code",
        "colab": {
          "base_uri": "https://localhost:8080/",
          "height": 390
        },
        "outputId": "0e4324d4-2fe5-4270-b926-7228ed47ab63"
      },
      "source": [
        "def plot_accuracy_and_loss(history):\n",
        "    hist = history.history\n",
        "    acc = hist['accuracy']\n",
        "    val_acc = hist['val_accuracy']\n",
        "    loss = hist['loss']\n",
        "    val_loss = hist['val_loss']\n",
        "    epochs = range(len(acc))\n",
        "    f, ax = plt.subplots(1,2, figsize=(14,6))\n",
        "    ax[0].plot(epochs, acc, 'g', label='Training accuracy')\n",
        "    ax[0].plot(epochs, val_acc, 'r', label='Validation accuracy')\n",
        "    ax[0].set_title('Training and validation accuracy')\n",
        "    ax[0].legend()\n",
        "    ax[1].plot(epochs, loss, 'g', label='Training loss')\n",
        "    ax[1].plot(epochs, val_loss, 'r', label='Validation loss')\n",
        "    ax[1].set_title('Training and validation loss')\n",
        "    ax[1].legend()\n",
        "    plt.show()\n",
        "plot_accuracy_and_loss(history)"
      ],
      "execution_count": 17,
      "outputs": [
        {
          "output_type": "display_data",
          "data": {
            "image/png": "[encoded data removed]",
            "text/plain": [
              "<Figure size 1008x432 with 2 Axes>"
            ]
          },
          "metadata": {
            "tags": [],
            "needs_background": "light"
          }
        }
      ]
    },
    {
      "cell_type": "code",
      "metadata": {
        "id": "0G875SUJWYvT",
        "colab_type": "code",
        "colab": {}
      },
      "source": [
        "model.save('/content/gdrive/My Drive/Bird Species/Main_MobileNet_bird_species3.h5')"
      ],
      "execution_count": 18,
      "outputs": []
    }
  ]
}